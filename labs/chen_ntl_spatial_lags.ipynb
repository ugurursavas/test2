{
 "cells": [
  {
   "cell_type": "code",
   "execution_count": 2,
   "id": "b166aa8a",
   "metadata": {},
   "outputs": [],
   "source": [
    "import pandas\n",
    "import geopandas\n",
    "from libpysal import graph\n",
    "import os\n",
    "import geopandas as gpd"
   ]
  },
  {
   "cell_type": "code",
   "execution_count": 3,
   "id": "344dccc5",
   "metadata": {},
   "outputs": [],
   "source": [
    "os.chdir('F:/projects/2024/ursavas_alahmadi_chen/data/ntl_data')\n"
   ]
  },
  {
   "cell_type": "code",
   "execution_count": 4,
   "id": "96a46ddf",
   "metadata": {},
   "outputs": [],
   "source": [
    "panel = (\n",
    "    pandas.read_csv(\n",
    "        'spatial.csv', \n",
    "        encoding = 'ISO-8859-9' # Turkish encoding\n",
    "    )\n",
    "    .set_index(['asdf_id', 'year'])\n",
    "    \n",
    ")"
   ]
  },
  {
   "cell_type": "code",
   "execution_count": 5,
   "id": "da6cb4ed",
   "metadata": {},
   "outputs": [],
   "source": [
    "geo = gpd.read_file(\"F:/projects/2024/informal/TUR_ADM1.geojson\")"
   ]
  },
  {
   "cell_type": "code",
   "execution_count": 6,
   "id": "c3a42f25",
   "metadata": {},
   "outputs": [],
   "source": [
    "w = (\n",
    "    graph.Graph.build_contiguity(geo, rook=False)\n",
    "    .transform('R')\n",
    ")"
   ]
  },
  {
   "cell_type": "code",
   "execution_count": 7,
   "id": "73d02376",
   "metadata": {},
   "outputs": [
    {
     "data": {
      "text/plain": [
       "{0: (36, 41, 46, 57, 61, 63),\n",
       " 1: (25, 32, 41, 54, 80),\n",
       " 2: (19, 24, 31, 38, 52, 53, 74),\n",
       " 3: (17, 30, 37, 44, 59, 75),\n",
       " 4: (23, 66, 71, 77),\n",
       " 5: (19, 38, 43, 52, 57, 58),\n",
       " 6: (11, 30, 64),\n",
       " 7: (24, 40, 55, 58),\n",
       " 8: (20, 21, 40, 53, 55),\n",
       " 9: (10, 18, 22, 31, 48, 50, 52),\n",
       " 10: (9, 50, 52, 60, 61),\n",
       " 11: (6, 30, 44),\n",
       " 12: (42, 45, 78),\n",
       " 13: (17, 25, 56, 59, 67, 79),\n",
       " 14: (29, 30, 34, 64, 72),\n",
       " 15: (18, 20, 31, 51, 53, 65),\n",
       " 16: (25, 28, 29, 30, 59, 73),\n",
       " 17: (3, 13, 59, 67, 75),\n",
       " 18: (9, 15, 22, 26, 31, 42, 65, 78),\n",
       " 19: (2, 5, 24, 38, 58),\n",
       " 20: (8, 15, 51, 53, 76),\n",
       " 21: (8, 27, 70),\n",
       " 22: (9, 18, 23, 42, 45, 48),\n",
       " 23: (4, 22, 45, 48, 66, 68, 77),\n",
       " 24: (2, 7, 19, 55, 58, 74),\n",
       " 25: (1, 13, 16, 28, 54, 56, 59, 80),\n",
       " 26: (18, 65, 78),\n",
       " 27: (21, 49, 70),\n",
       " 28: (16, 25, 29, 54, 73),\n",
       " 29: (14, 16, 28, 30, 33, 34, 54, 69, 73),\n",
       " 30: (3, 6, 11, 14, 16, 29, 44, 59, 64),\n",
       " 31: (2, 9, 15, 18, 52, 53),\n",
       " 32: (1, 36, 41, 47, 63, 80),\n",
       " 33: (29, 34, 62, 69, 72),\n",
       " 34: (14, 29, 33, 72),\n",
       " 35: (75, 79),\n",
       " 36: (0, 32, 63),\n",
       " 37: (3, 44),\n",
       " 38: (2, 5, 19, 52),\n",
       " 39: (49, 51, 70),\n",
       " 40: (7, 8, 55),\n",
       " 41: (0, 1, 32, 46, 54, 63, 69),\n",
       " 42: (12, 18, 22, 45, 78),\n",
       " 43: (5, 52, 57),\n",
       " 44: (3, 11, 30, 37),\n",
       " 45: (12, 22, 23, 42, 68),\n",
       " 46: (0, 41, 60, 61, 69, 77),\n",
       " 47: (32,),\n",
       " 48: (9, 22, 23, 50, 77),\n",
       " 49: (27, 39, 70),\n",
       " 50: (9, 10, 48, 60, 77),\n",
       " 51: (15, 20, 39, 65, 76),\n",
       " 52: (2, 5, 9, 10, 31, 38, 43, 57, 61),\n",
       " 53: (2, 8, 15, 20, 31, 55, 74),\n",
       " 54: (1, 25, 28, 29, 41, 69),\n",
       " 55: (7, 8, 24, 40, 53, 74),\n",
       " 56: (13, 25, 67, 79, 80),\n",
       " 57: (0, 5, 43, 52, 61),\n",
       " 58: (5, 7, 19, 24),\n",
       " 59: (3, 13, 16, 17, 25, 30),\n",
       " 60: (10, 46, 50, 61, 77),\n",
       " 61: (0, 10, 46, 52, 57, 60),\n",
       " 62: (33, 66, 69, 71),\n",
       " 63: (0, 32, 36, 41),\n",
       " 64: (6, 14, 30, 72),\n",
       " 65: (15, 18, 26, 51),\n",
       " 66: (4, 23, 62, 68, 71),\n",
       " 67: (13, 17, 56, 75, 79),\n",
       " 68: (23, 45, 66),\n",
       " 69: (29, 33, 41, 46, 54, 62, 71, 77),\n",
       " 70: (21, 27, 39, 49),\n",
       " 71: (4, 62, 66, 69, 77),\n",
       " 72: (14, 33, 34, 64),\n",
       " 73: (16, 28, 29),\n",
       " 74: (2, 24, 53, 55),\n",
       " 75: (3, 17, 35, 67, 79),\n",
       " 76: (20, 51),\n",
       " 77: (4, 23, 46, 48, 50, 60, 69, 71),\n",
       " 78: (12, 18, 26, 42),\n",
       " 79: (13, 35, 56, 67, 75),\n",
       " 80: (1, 25, 32, 56)}"
      ]
     },
     "execution_count": 7,
     "metadata": {},
     "output_type": "execute_result"
    }
   ],
   "source": [
    "w.neighbors"
   ]
  },
  {
   "cell_type": "code",
   "execution_count": 8,
   "id": "fbdf39d6",
   "metadata": {},
   "outputs": [],
   "source": [
    "lags = pandas.DataFrame(index=panel.index, columns=panel.columns)\n",
    "\n",
    "for year in panel.index.get_level_values('year').unique():\n",
    "    for var in lags.columns:\n",
    "        vals = panel.loc[pandas.IndexSlice[:, year], var]\n",
    "        lags.loc[vals.index, var] = w.lag(vals)"
   ]
  },
  {
   "cell_type": "code",
   "execution_count": 9,
   "id": "1cc81225",
   "metadata": {},
   "outputs": [],
   "source": [
    "lags.to_csv('lagged_ntl_panel.csv')"
   ]
  },
  {
   "cell_type": "code",
   "execution_count": null,
   "id": "ca36fe70",
   "metadata": {},
   "outputs": [],
   "source": []
  }
 ],
 "metadata": {
  "kernelspec": {
   "display_name": "Python 3 (ipykernel)",
   "language": "python",
   "name": "python3"
  },
  "language_info": {
   "codemirror_mode": {
    "name": "ipython",
    "version": 3
   },
   "file_extension": ".py",
   "mimetype": "text/x-python",
   "name": "python",
   "nbconvert_exporter": "python",
   "pygments_lexer": "ipython3",
   "version": "3.11.5"
  }
 },
 "nbformat": 4,
 "nbformat_minor": 5
}
