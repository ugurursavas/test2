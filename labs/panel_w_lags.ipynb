{
 "cells": [
  {
   "cell_type": "markdown",
   "id": "91a97645-8f1b-4297-a12d-fc9c6d86c989",
   "metadata": {},
   "source": [
    "# Panel spatial lags\n",
    "\n",
    "This document shows how one can calculate spatial lag of a series of variables over several periods of time, assuming the geography (e.g., $W$) remains constant."
   ]
  },
  {
   "cell_type": "code",
   "execution_count": 1,
   "id": "583d1870-52b7-453c-98aa-c4c56548f525",
   "metadata": {},
   "outputs": [],
   "source": [
    "import pandas\n",
    "import geopandas\n",
    "from libpysal import graph"
   ]
  },
  {
   "cell_type": "markdown",
   "id": "937266e2-d3f8-4131-a98a-1ee77b95fcdd",
   "metadata": {},
   "source": [
    "**NOTE** - This implementation relies on the new `graph` structures for spatial weights in PySAL. For that reason, a recent version of the library is required."
   ]
  },
  {
   "cell_type": "markdown",
   "id": "90e5156c-0fdf-4d1c-95a9-566ac6575ad9",
   "metadata": {},
   "source": [
    "## Data"
   ]
  },
  {
   "cell_type": "markdown",
   "id": "7c4f73dd-0d87-46e0-a6f3-91ba469b3ec9",
   "metadata": {},
   "source": [
    "- Tabular data\n",
    "\n",
    "Note we drop the names as they're irrelevant here (we have unique IDs) and index the table on region ID and year. The resulting table contains only the variables to lag as columns."
   ]
  },
  {
   "cell_type": "code",
   "execution_count": 2,
   "id": "dc59bdbd-5adc-4680-840a-4f18b08bbd6a",
   "metadata": {},
   "outputs": [],
   "source": [
    "panel = (\n",
    "    pandas.read_csv(\n",
    "        'spatial_lag_panel_data.csv', \n",
    "        encoding = 'ISO-8859-9' # Turkish encoding\n",
    "    )\n",
    "    .set_index(['asdf_id', 'year'])\n",
    "    .drop(columns=['shapeName'])\n",
    ")"
   ]
  },
  {
   "cell_type": "markdown",
   "id": "c81bd455-8ee7-4ced-8afd-7db5ff1c6a77",
   "metadata": {},
   "source": [
    "- Geographic data"
   ]
  },
  {
   "cell_type": "code",
   "execution_count": 3,
   "id": "d584696e-deaa-4b45-af5b-fa731421c7d6",
   "metadata": {},
   "outputs": [
    {
     "name": "stderr",
     "output_type": "stream",
     "text": [
      "ERROR 1: PROJ: proj_create_from_database: Open of /opt/conda/envs/gds/share/proj failed\n"
     ]
    }
   ],
   "source": [
    "geo = geopandas.read_file('TUR_ADM1.geojson').set_index('asdf_id')"
   ]
  },
  {
   "cell_type": "markdown",
   "id": "d581bab9-fbf5-4ffb-ab60-9979a7dd6fc5",
   "metadata": {},
   "source": [
    "## Lag computation"
   ]
  },
  {
   "cell_type": "markdown",
   "id": "30e53bfb-3358-4ce1-9303-a65be3855134",
   "metadata": {},
   "source": [
    "First, we compute the spatial weights we will use. In this example, we pick queen contiguity, although other criteria are available and possibly valid too."
   ]
  },
  {
   "cell_type": "code",
   "execution_count": 4,
   "id": "0e33043d-882f-4e98-b52c-e0b77a139215",
   "metadata": {},
   "outputs": [],
   "source": [
    "w = (\n",
    "    graph.Graph.build_contiguity(geo, rook=False)\n",
    "    .transform('R')\n",
    ")"
   ]
  },
  {
   "cell_type": "markdown",
   "id": "97f06c58-6207-4743-b380-e3fd9386a04d",
   "metadata": {},
   "source": [
    "Now we're ready to compute the lags. We approach this as a nested `for` loop, where we iterate through every year and, within that, through every variable. To make computation more efficient, we first generate the frame where results will be stored (`lags`)."
   ]
  },
  {
   "cell_type": "code",
   "execution_count": 5,
   "id": "5e71ec70-4505-4034-9317-aa8a2de8e441",
   "metadata": {},
   "outputs": [],
   "source": [
    "lags = pandas.DataFrame(index=panel.index, columns=panel.columns)\n",
    "\n",
    "for year in panel.index.get_level_values('year').unique():\n",
    "    for var in lags.columns:\n",
    "        vals = panel.loc[pandas.IndexSlice[:, year], var]\n",
    "        lags.loc[vals.index, var] = w.lag(vals)"
   ]
  },
  {
   "cell_type": "markdown",
   "id": "872fc9fa-0f48-417f-86de-be059e16247f",
   "metadata": {},
   "source": [
    "We can now write the lagged values to disk:"
   ]
  },
  {
   "cell_type": "code",
   "execution_count": 6,
   "id": "9aedee0d-4b3b-4e01-86d3-100b22b904be",
   "metadata": {},
   "outputs": [],
   "source": [
    "lags.to_csv('lagged.csv')"
   ]
  }
 ],
 "metadata": {
  "kernelspec": {
   "display_name": "Python 3 (ipykernel)",
   "language": "python",
   "name": "python3"
  },
  "language_info": {
   "codemirror_mode": {
    "name": "ipython",
    "version": 3
   },
   "file_extension": ".py",
   "mimetype": "text/x-python",
   "name": "python",
   "nbconvert_exporter": "python",
   "pygments_lexer": "ipython3",
   "version": "3.11.5"
  }
 },
 "nbformat": 4,
 "nbformat_minor": 5
}
